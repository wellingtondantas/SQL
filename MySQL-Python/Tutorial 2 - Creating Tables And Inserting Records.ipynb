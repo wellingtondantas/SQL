{
 "cells": [
  {
   "cell_type": "markdown",
   "metadata": {},
   "source": [
    "### Creating Tables And Inserting Records"
   ]
  },
  {
   "cell_type": "code",
   "execution_count": 36,
   "metadata": {},
   "outputs": [
    {
     "name": "stdout",
     "output_type": "stream",
     "text": [
      "<mysql.connector.connection.MySQLConnection object at 0x0000028D7250C708>\n"
     ]
    }
   ],
   "source": [
    "### Create MySQL Connection And Connect\n",
    "import mysql.connector as sql\n",
    "\n",
    "connection = sql.connect(\n",
    "  host=\"localhost\",\n",
    "  user=\"root\",\n",
    "  password=\"12345\",\n",
    "  database=\"student\"\n",
    ")\n",
    "\n",
    "print(connection)"
   ]
  },
  {
   "cell_type": "markdown",
   "metadata": {},
   "source": [
    "### Create Table In MySQL using Python"
   ]
  },
  {
   "cell_type": "code",
   "execution_count": 37,
   "metadata": {},
   "outputs": [],
   "source": [
    "cursor = connection.cursor()\n",
    "\n",
    "cursor.execute(\"CREATE TABLE studentinfo (id INT AUTO_INCREMENT PRIMARY KEY, name VARCHAR(255), subject VARCHAR(255))\")"
   ]
  },
  {
   "cell_type": "markdown",
   "metadata": {},
   "source": [
    "### Insert Records in Table"
   ]
  },
  {
   "cell_type": "code",
   "execution_count": 38,
   "metadata": {},
   "outputs": [
    {
     "name": "stdout",
     "output_type": "stream",
     "text": [
      "Row inserted 1\n"
     ]
    }
   ],
   "source": [
    "query = \"INSERT INTO studentinfo (name, subject) VALUES (%s, %s)\"\n",
    "value = (\"John\", \"Stats\")\n",
    "cursor.execute(query,value)\n",
    "print(\"Row inserted\",cursor.lastrowid)"
   ]
  },
  {
   "cell_type": "code",
   "execution_count": 41,
   "metadata": {},
   "outputs": [
    {
     "name": "stdout",
     "output_type": "stream",
     "text": [
      "Row inserted 2\n"
     ]
    }
   ],
   "source": [
    "### Insert multiple records in Table\n",
    "query = \"INSERT INTO studentinfo (name, subject) VALUES (%s, %s)\"\n",
    "values = [(\"Krish\", \"Stats\"),\n",
    "        (\"Joe\", \"Maths\"),\n",
    "        (\"Ankur\",\"Data Science\"),\n",
    "        (\"Paul\",\"Data Science\"),\n",
    "        (\"Vishal\",\"Maths\"),\n",
    "        (\"Krish\",\"Data Science\")]\n",
    "cursor.executemany(query,values)\n",
    "print(\"Row inserted\",cursor.lastrowid)"
   ]
  },
  {
   "cell_type": "markdown",
   "metadata": {},
   "source": [
    "#### Select All"
   ]
  },
  {
   "cell_type": "code",
   "execution_count": 53,
   "metadata": {},
   "outputs": [],
   "source": [
    "cursor = connection.cursor()\n",
    "cursor.execute(\"Select * from studentinfo\")"
   ]
  },
  {
   "cell_type": "code",
   "execution_count": 43,
   "metadata": {},
   "outputs": [
    {
     "data": {
      "text/plain": [
       "[(1, 'John', 'Stats'),\n",
       " (2, 'Krish', 'Stats'),\n",
       " (3, 'Joe', 'Maths'),\n",
       " (4, 'Ankur', 'Data Science'),\n",
       " (5, 'Paul', 'Data Science'),\n",
       " (6, 'Vishal', 'Maths'),\n",
       " (7, 'Krish', 'Data Science')]"
      ]
     },
     "execution_count": 43,
     "metadata": {},
     "output_type": "execute_result"
    }
   ],
   "source": [
    "### Fetch All the Data\n",
    "cursor.fetchall()"
   ]
  },
  {
   "cell_type": "code",
   "execution_count": 52,
   "metadata": {},
   "outputs": [],
   "source": [
    "### Fetch One Record At A time\n",
    "cursor.fetchone()"
   ]
  },
  {
   "cell_type": "code",
   "execution_count": 54,
   "metadata": {},
   "outputs": [],
   "source": [
    "lst=cursor.fetchall()"
   ]
  },
  {
   "cell_type": "code",
   "execution_count": 55,
   "metadata": {},
   "outputs": [
    {
     "name": "stdout",
     "output_type": "stream",
     "text": [
      "(1, 'John', 'Stats')\n",
      "(2, 'Krish', 'Stats')\n",
      "(3, 'Joe', 'Maths')\n",
      "(4, 'Ankur', 'Data Science')\n",
      "(5, 'Paul', 'Data Science')\n",
      "(6, 'Vishal', 'Maths')\n",
      "(7, 'Krish', 'Data Science')\n"
     ]
    }
   ],
   "source": [
    "for records in lst:\n",
    "    print(records)"
   ]
  },
  {
   "cell_type": "markdown",
   "metadata": {},
   "source": [
    "#### Selecting Particular Rows"
   ]
  },
  {
   "cell_type": "code",
   "execution_count": 56,
   "metadata": {},
   "outputs": [],
   "source": [
    "cursor.execute(\"Select * from studentinfo where name='Krish'\")"
   ]
  },
  {
   "cell_type": "code",
   "execution_count": 57,
   "metadata": {},
   "outputs": [
    {
     "data": {
      "text/plain": [
       "[(2, 'Krish', 'Stats'), (7, 'Krish', 'Data Science')]"
      ]
     },
     "execution_count": 57,
     "metadata": {},
     "output_type": "execute_result"
    }
   ],
   "source": [
    "### Fetch All the Data\n",
    "cursor.fetchall()"
   ]
  },
  {
   "cell_type": "markdown",
   "metadata": {},
   "source": [
    "#### Select Particular Columns"
   ]
  },
  {
   "cell_type": "code",
   "execution_count": 58,
   "metadata": {},
   "outputs": [
    {
     "data": {
      "text/plain": [
       "[('Stats',),\n",
       " ('Stats',),\n",
       " ('Maths',),\n",
       " ('Data Science',),\n",
       " ('Data Science',),\n",
       " ('Maths',),\n",
       " ('Data Science',)]"
      ]
     },
     "execution_count": 58,
     "metadata": {},
     "output_type": "execute_result"
    }
   ],
   "source": [
    "cursor.execute(\"Select subject from studentinfo\")\n",
    "#### Fetch All\n",
    "cursor.fetchall()"
   ]
  },
  {
   "cell_type": "code",
   "execution_count": 59,
   "metadata": {},
   "outputs": [
    {
     "data": {
      "text/plain": [
       "[('Stats',), ('Maths',), ('Data Science',)]"
      ]
     },
     "execution_count": 59,
     "metadata": {},
     "output_type": "execute_result"
    }
   ],
   "source": [
    "## Select Distinct Columns\n",
    "cursor.execute(\"SELECT DISTINCT subject from studentinfo\")\n",
    "#### Fetch All\n",
    "cursor.fetchall()"
   ]
  },
  {
   "cell_type": "code",
   "execution_count": 60,
   "metadata": {},
   "outputs": [
    {
     "data": {
      "text/plain": [
       "[('Krish', 'Stats'),\n",
       " ('Ankur', 'Data Science'),\n",
       " ('Paul', 'Data Science'),\n",
       " ('Krish', 'Data Science')]"
      ]
     },
     "execution_count": 60,
     "metadata": {},
     "output_type": "execute_result"
    }
   ],
   "source": [
    "cursor.execute(\"SELECT name, subject FROM studentinfo WHERE name = 'Krish' OR subject = 'Data Science'\") \n",
    "#### Fetch All\n",
    "cursor.fetchall()"
   ]
  },
  {
   "cell_type": "markdown",
   "metadata": {},
   "source": [
    "### Drop Table"
   ]
  },
  {
   "cell_type": "code",
   "execution_count": 35,
   "metadata": {},
   "outputs": [],
   "source": [
    "cursor.execute(\"DROP TABLE studentinfo\") \n"
   ]
  }
 ],
 "metadata": {
  "kernelspec": {
   "display_name": "Python 3",
   "language": "python",
   "name": "python3"
  },
  "language_info": {
   "codemirror_mode": {
    "name": "ipython",
    "version": 3
   },
   "file_extension": ".py",
   "mimetype": "text/x-python",
   "name": "python",
   "nbconvert_exporter": "python",
   "pygments_lexer": "ipython3",
   "version": "3.7.6"
  }
 },
 "nbformat": 4,
 "nbformat_minor": 4
}
